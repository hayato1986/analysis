{
  "nbformat": 4,
  "nbformat_minor": 0,
  "metadata": {
    "colab": {
      "provenance": [],
      "authorship_tag": "ABX9TyNdwabAtTTHFPRJMm48vxKK",
      "include_colab_link": true
    },
    "kernelspec": {
      "name": "python3",
      "display_name": "Python 3"
    },
    "language_info": {
      "name": "python"
    }
  },
  "cells": [
    {
      "cell_type": "markdown",
      "metadata": {
        "id": "view-in-github",
        "colab_type": "text"
      },
      "source": [
        "<a href=\"https://colab.research.google.com/github/hayato1986/analysis/blob/master/useful_list.ipynb\" target=\"_parent\"><img src=\"https://colab.research.google.com/assets/colab-badge.svg\" alt=\"Open In Colab\"/></a>"
      ]
    },
    {
      "cell_type": "code",
      "execution_count": null,
      "metadata": {
        "id": "UGGtvk3d-SaD"
      },
      "outputs": [],
      "source": [
        "#Chromiumとseleniumをインストール\n",
        "!apt-get update\n",
        "!apt install chromium-chromedriver\n",
        "!cp /usr/lib/chromium-browser/chromedriver /usr/bin\n",
        "!pip install selenium"
      ]
    },
    {
      "cell_type": "code",
      "source": [
        "#Base library\n",
        "import requests\n",
        "import json\n",
        "import csv\n",
        "import time\n",
        "import random\n",
        "\n",
        "#Sync with Google other tools : BigQuery, SpreadSheet\n",
        "from google.colab import syntax\n",
        "from google.colab import auth\n",
        "from google.cloud import bigquery\n",
        "from google.auth import default\n",
        "import gspread\n",
        "\n",
        "auth.authenticate_user()\n",
        "creds, _ = default()\n",
        "gc = gspread.authorize(creds)\n",
        "\n",
        "#scraping data with selenium\n",
        "from bs4 import BeautifulSoup \n",
        "from selenium import webdriver\n",
        "\n",
        "#data proccessing\n",
        "import numpy as np\n",
        "import pandas as pd\n",
        "from google.colab import files\n",
        "from pickle import APPEND\n",
        "\n",
        "\n"
      ],
      "metadata": {
        "id": "rZytskIn-gYA"
      },
      "execution_count": 3,
      "outputs": []
    },
    {
      "cell_type": "markdown",
      "source": [
        "# **SpreadSheetからのよみこみ、書き込み**"
      ],
      "metadata": {
        "id": "w4eDUvzv_hTu"
      }
    },
    {
      "cell_type": "code",
      "source": [
        "#SpreadSheetの取り扱い\n",
        "#https://docs.gspread.org/en/latest/api/models/worksheet.html?highlight=append#gspread.worksheet.Worksheet.append_rows\n",
        "\n",
        "\n",
        "ss_id = \"\"　#Spreadsheetのid\n",
        "workbook = gc.open_by_key(ss_id)\n",
        "worksheet = workbook.worksheet(\"sheet1\")\n",
        "\n",
        "print(worksheet.acell(\"A1\").value)\n",
        "# => A1のセルの値\n",
        "\n",
        "print(worksheet.acell(\"B2\").value)\n",
        "# => B2のセルの値\n",
        "\n",
        "print(worksheet.cell(3,2).value)\n",
        "# => B3のセルの値\n",
        "\n",
        "print(worksheet.get_all_records())\n",
        "#all recoreds\n",
        "\n",
        "print(worksheet.get_all_values())\n",
        "#all values を配列で\n",
        "\n",
        "#順次追加\n",
        "for i in range(100):\n",
        "  worksheet.append_row([i, i * 2, random.randint(1, 100)])\n",
        "\n",
        "# A1セルに'foo'という値を上書き\n",
        "worksheet.update_acell('A1', 'foo')\n",
        "\n",
        "# A2からC3のセルエリアに'bar'を一括で上書き\n",
        "cell_list = worksheet.range('A2:C3')\n",
        "for cell in cell_list:\n",
        "    cell.value = 'bar'\n",
        "worksheet.update_cells(cell_list)\n",
        "\n",
        "# A1セルの値を取得し、表示\n",
        "val = worksheet.acell('A1').value\n",
        "print(val)\n",
        "\n",
        "# A1セルを0,0とするようなセル指定で\n",
        "# 2，2（B2）の位置のセルを取得\n",
        "val = worksheet.cell(2, 2).value\n",
        "print(val)"
      ],
      "metadata": {
        "colab": {
          "base_uri": "https://localhost:8080/",
          "height": 131
        },
        "id": "MqQmULzD_Lwn",
        "outputId": "a64b99dd-3cbc-45be-bdcd-edb7ec02f136"
      },
      "execution_count": 4,
      "outputs": [
        {
          "output_type": "error",
          "ename": "SyntaxError",
          "evalue": "ignored",
          "traceback": [
            "\u001b[0;36m  File \u001b[0;32m\"<ipython-input-4-8043bded1b2c>\"\u001b[0;36m, line \u001b[0;32m5\u001b[0m\n\u001b[0;31m    ss_id = \"\"　#Spreadsheetのid\u001b[0m\n\u001b[0m              ^\u001b[0m\n\u001b[0;31mSyntaxError\u001b[0m\u001b[0;31m:\u001b[0m invalid character in identifier\n"
          ]
        }
      ]
    },
    {
      "cell_type": "markdown",
      "source": [
        "# 文字の取り扱い"
      ],
      "metadata": {
        "id": "bRIVsaAQAMX6"
      }
    },
    {
      "cell_type": "code",
      "source": [
        "# ひらがなをカタカナに\n",
        "!pip install pykakasi\n",
        "import pykakasi\n",
        "kakasi = pykakasi.kakasi() # インスタンスの作成\n",
        "kakasi.setMode('H', 'a') # ひらがなをローマ字に変換するように設定\n",
        "kakasi.setMode('K', 'a') # カタカナをローマ字に変換するように設定\n",
        "kakasi.setMode('J', 'a') # 漢字をローマ字に変換するように設定\n",
        "conversion = kakasi.getConverter() # 上記モード設定の適用"
      ],
      "metadata": {
        "colab": {
          "base_uri": "https://localhost:8080/"
        },
        "id": "aUb8IFzh_4K6",
        "outputId": "869c230e-8685-414f-8acb-10ca71c69852"
      },
      "execution_count": 6,
      "outputs": [
        {
          "output_type": "stream",
          "name": "stdout",
          "text": [
            "Looking in indexes: https://pypi.org/simple, https://us-python.pkg.dev/colab-wheels/public/simple/\n",
            "Collecting pykakasi\n",
            "  Downloading pykakasi-2.2.1-py3-none-any.whl (2.4 MB)\n",
            "\u001b[K     |████████████████████████████████| 2.4 MB 32.2 MB/s \n",
            "\u001b[?25hCollecting jaconv\n",
            "  Downloading jaconv-0.3.tar.gz (15 kB)\n",
            "Collecting deprecated\n",
            "  Downloading Deprecated-1.2.13-py2.py3-none-any.whl (9.6 kB)\n",
            "Requirement already satisfied: importlib-metadata in /usr/local/lib/python3.7/dist-packages (from pykakasi) (5.0.0)\n",
            "Requirement already satisfied: wrapt<2,>=1.10 in /usr/local/lib/python3.7/dist-packages (from deprecated->pykakasi) (1.14.1)\n",
            "Requirement already satisfied: zipp>=0.5 in /usr/local/lib/python3.7/dist-packages (from importlib-metadata->pykakasi) (3.9.0)\n",
            "Requirement already satisfied: typing-extensions>=3.6.4 in /usr/local/lib/python3.7/dist-packages (from importlib-metadata->pykakasi) (4.1.1)\n",
            "Building wheels for collected packages: jaconv\n",
            "  Building wheel for jaconv (setup.py) ... \u001b[?25l\u001b[?25hdone\n",
            "  Created wheel for jaconv: filename=jaconv-0.3-py3-none-any.whl size=15564 sha256=a748e1af702875c036abf08db26eb0035904f01603ec3b763920d0edb79dad25\n",
            "  Stored in directory: /root/.cache/pip/wheels/8f/4f/c2/a2a3b14d0e94f855f4aa8887bf0267bee9ecfb8e62a9ee2d92\n",
            "Successfully built jaconv\n",
            "Installing collected packages: jaconv, deprecated, pykakasi\n",
            "Successfully installed deprecated-1.2.13 jaconv-0.3 pykakasi-2.2.1\n"
          ]
        },
        {
          "output_type": "stream",
          "name": "stderr",
          "text": [
            "/usr/local/lib/python3.7/dist-packages/ipykernel_launcher.py:4: DeprecationWarning: Call to deprecated method setMode. (Old API will be removed in v3.0.) -- Deprecated since version 2.1.\n",
            "  after removing the cwd from sys.path.\n",
            "/usr/local/lib/python3.7/dist-packages/ipykernel_launcher.py:5: DeprecationWarning: Call to deprecated method setMode. (Old API will be removed in v3.0.) -- Deprecated since version 2.1.\n",
            "  \"\"\"\n",
            "/usr/local/lib/python3.7/dist-packages/ipykernel_launcher.py:6: DeprecationWarning: Call to deprecated method setMode. (Old API will be removed in v3.0.) -- Deprecated since version 2.1.\n",
            "  \n",
            "/usr/local/lib/python3.7/dist-packages/ipykernel_launcher.py:7: DeprecationWarning: Call to deprecated method getConverter. (Old API will be removed in v3.0.) -- Deprecated since version 2.1.\n",
            "  import sys\n"
          ]
        }
      ]
    }
  ]
}