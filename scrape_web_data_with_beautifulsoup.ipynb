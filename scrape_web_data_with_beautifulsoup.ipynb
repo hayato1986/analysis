{
  "nbformat": 4,
  "nbformat_minor": 0,
  "metadata": {
    "colab": {
      "provenance": [],
      "collapsed_sections": [],
      "authorship_tag": "ABX9TyOuqzU0y5jAaOAgg81v0Fi6",
      "include_colab_link": true
    },
    "kernelspec": {
      "name": "python3",
      "display_name": "Python 3"
    },
    "language_info": {
      "name": "python"
    }
  },
  "cells": [
    {
      "cell_type": "markdown",
      "metadata": {
        "id": "view-in-github",
        "colab_type": "text"
      },
      "source": [
        "<a href=\"https://colab.research.google.com/github/hayato1986/analysis/blob/master/scrape_web_data_with_beautifulsoup.ipynb\" target=\"_parent\"><img src=\"https://colab.research.google.com/assets/colab-badge.svg\" alt=\"Open In Colab\"/></a>"
      ]
    },
    {
      "cell_type": "code",
      "execution_count": null,
      "metadata": {
        "id": "e05I4CL8L7Ha"
      },
      "outputs": [],
      "source": [
        "import requests\n",
        "import json\n",
        "from bs4 import BeautifulSoup \n",
        "import numpy as np\n",
        "import pandas as pd\n",
        "from google.colab import files"
      ]
    },
    {
      "cell_type": "code",
      "source": [
        "url = \"https://www.livefans.jp/venues/5001\"\n",
        "html = requests.get(url)\n",
        "soup = BeautifulSoup(html.content, \"html.parser\")"
      ],
      "metadata": {
        "id": "UyzovuppMF9h"
      },
      "execution_count": null,
      "outputs": []
    },
    {
      "cell_type": "code",
      "source": [
        "table = soup.findAll(\"table\")[0]\n",
        "rows = table.findAll(\"tr\")\n",
        "placeName = soup.find('h1',{\"id\": \"title\"}).get_text()"
      ],
      "metadata": {
        "id": "lb9mSJTgM5FP"
      },
      "execution_count": null,
      "outputs": []
    },
    {
      "cell_type": "code",
      "source": [
        "#beautifulsoup version\n",
        "csv = []\n",
        "for row in rows:\n",
        "    csvRow = []\n",
        "    for cell in row.findAll('td',class_=\"\"):\n",
        "      csvRow.append(cell.get_text().replace('\\n', ''))\n",
        "      url = cell.find(\"a\")\n",
        "      if url is None:\n",
        "        continue\n",
        "      print(url.get('href').replace('\\n', ''))\n",
        "      csvRow.append(url.get('href').replace('\\n', ''))\n",
        "    csv.append(csvRow)\n"
      ],
      "metadata": {
        "colab": {
          "base_uri": "https://localhost:8080/"
        },
        "id": "zGp_fdfkNWkm",
        "outputId": "42fd6554-13be-4132-8270-33c090a27378"
      },
      "execution_count": null,
      "outputs": [
        {
          "output_type": "stream",
          "name": "stdout",
          "text": [
            "http://inter-planets.net/top.html\n"
          ]
        }
      ]
    },
    {
      "cell_type": "code",
      "source": [
        "list = []\n",
        "list.append(placeName)\n",
        "for c in csv:\n",
        "  list.append(c[-1])\n",
        "print(list)"
      ],
      "metadata": {
        "colab": {
          "base_uri": "https://localhost:8080/"
        },
        "id": "MtpJIArTilIT",
        "outputId": "64959dfe-986f-4a14-d18a-4f0c4abf936d"
      },
      "execution_count": null,
      "outputs": [
        {
          "output_type": "stream",
          "name": "stdout",
          "text": [
            "['吉祥寺Planet K', '〒180-0004東京都武蔵野市吉祥寺本町1-8-10 八番館ビルB1F', ' 吉祥寺駅中央口 徒歩5分', ' 280人 ', '-', 'なし', 'http://inter-planets.net/top.html']\n"
          ]
        }
      ]
    },
    {
      "cell_type": "code",
      "source": [
        "\n",
        "print(csv)\n",
        "filename =  \"sample.csv\"\n",
        "df = pd.DataFrame(csv)\n",
        "df.to_csv(filename, encoding = 'utf-8-sig') \n",
        "files.download(filename)"
      ],
      "metadata": {
        "id": "vNxbyHlWNvJm"
      },
      "execution_count": null,
      "outputs": []
    }
  ]
}